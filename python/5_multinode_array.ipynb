{
 "cells": [
  {
   "cell_type": "markdown",
   "metadata": {},
   "source": [
    "# Array multinode\n",
    "\n",
    "In this last notebook we are using several processes to load data in memory but then we are building a single distributed matrix, we can operate on it using methods or even slicing like if it were a `numpy` array, `dask` will take care of managing all the process to process communication for us.\n",
    "\n",
    "Here we are using `dask-distributed` so we could run on many different nodes."
   ]
  },
  {
   "cell_type": "code",
   "execution_count": 14,
   "metadata": {
    "collapsed": false
   },
   "outputs": [],
   "source": [
    "def load_file(filename):\n",
    "    import numpy\n",
    "    data = numpy.loadtxt(fname=filename, delimiter=',')\n",
    "    return data"
   ]
  },
  {
   "cell_type": "code",
   "execution_count": 15,
   "metadata": {
    "collapsed": true
   },
   "outputs": [],
   "source": [
    "from glob import glob"
   ]
  },
  {
   "cell_type": "code",
   "execution_count": 16,
   "metadata": {
    "collapsed": false
   },
   "outputs": [],
   "source": [
    "filenames = glob(\"data/infl*csv\")"
   ]
  },
  {
   "cell_type": "code",
   "execution_count": 17,
   "metadata": {
    "collapsed": false
   },
   "outputs": [],
   "source": [
    "from distributed import Executor"
   ]
  },
  {
   "cell_type": "code",
   "execution_count": 18,
   "metadata": {
    "collapsed": false
   },
   "outputs": [],
   "source": [
    "executor = Executor('127.0.0.1:8786')"
   ]
  },
  {
   "cell_type": "code",
   "execution_count": 22,
   "metadata": {
    "collapsed": false
   },
   "outputs": [],
   "source": [
    "data_futures = executor.map(load_file, filenames)"
   ]
  },
  {
   "cell_type": "code",
   "execution_count": 23,
   "metadata": {
    "collapsed": false
   },
   "outputs": [
    {
     "data": {
      "text/plain": [
       "[<Future: status: finished, key: load_file-32bd3771519a30408f1a1e0035a8f641>,\n",
       " <Future: status: finished, key: load_file-d2438b67345f617986ddcc68439e1664>,\n",
       " <Future: status: finished, key: load_file-49edd16b6453f28b1275851ff95956e5>,\n",
       " <Future: status: finished, key: load_file-624642290f1844c39e1f18c719e1a4e0>,\n",
       " <Future: status: finished, key: load_file-1035ef9aa9fa5682b05bcbc1bd15f4d8>,\n",
       " <Future: status: finished, key: load_file-2cd2e956a4f0aae83df8a4d66ac6c5b3>,\n",
       " <Future: status: finished, key: load_file-d0a1a55bbbeb0599d7564a22de320fc0>,\n",
       " <Future: status: finished, key: load_file-0a1206a9aee3b22300feac528d666b20>,\n",
       " <Future: status: finished, key: load_file-2d881e3f161221ad9d7471dd94cfe4b4>,\n",
       " <Future: status: finished, key: load_file-0d2ba654860580c4b69f0a523641685d>,\n",
       " <Future: status: finished, key: load_file-2c9c4a468e893731a1b4de3c3fe5409d>,\n",
       " <Future: status: finished, key: load_file-0146a49b0d9ad0aef17a29834f50174d>]"
      ]
     },
     "execution_count": 23,
     "metadata": {},
     "output_type": "execute_result"
    }
   ],
   "source": [
    "data_futures"
   ]
  },
  {
   "cell_type": "code",
   "execution_count": 24,
   "metadata": {
    "collapsed": false
   },
   "outputs": [
    {
     "data": {
      "text/plain": [
       "array([[ 0.,  1.,  0., ...,  0.,  2.,  1.],\n",
       "       [ 0.,  0.,  2., ...,  1.,  0.,  1.],\n",
       "       [ 0.,  1.,  0., ...,  0.,  0.,  1.],\n",
       "       ..., \n",
       "       [ 0.,  0.,  2., ...,  0.,  1.,  1.],\n",
       "       [ 0.,  1.,  2., ...,  1.,  2.,  1.],\n",
       "       [ 0.,  0.,  1., ...,  1.,  0.,  1.]])"
      ]
     },
     "execution_count": 24,
     "metadata": {},
     "output_type": "execute_result"
    }
   ],
   "source": [
    "data_futures[0].result()"
   ]
  },
  {
   "cell_type": "code",
   "execution_count": 25,
   "metadata": {
    "collapsed": false
   },
   "outputs": [],
   "source": [
    "from distributed.collections import futures_to_dask_arrays\n",
    "distributed_dask_arrays = futures_to_dask_arrays(data_futures)  # many small dask arrays"
   ]
  },
  {
   "cell_type": "code",
   "execution_count": 26,
   "metadata": {
    "collapsed": false
   },
   "outputs": [],
   "source": [
    "import dask.array\n",
    "all_distributed_data = dask.array.concatenate(distributed_dask_arrays, axis=0)        # one large dask array, joined by time"
   ]
  },
  {
   "cell_type": "code",
   "execution_count": 27,
   "metadata": {
    "collapsed": false
   },
   "outputs": [
    {
     "data": {
      "text/plain": [
       "(720, 40)"
      ]
     },
     "execution_count": 27,
     "metadata": {},
     "output_type": "execute_result"
    }
   ],
   "source": [
    "all_distributed_data.shape"
   ]
  },
  {
   "cell_type": "code",
   "execution_count": 28,
   "metadata": {
    "collapsed": false
   },
   "outputs": [
    {
     "data": {
      "text/plain": [
       "20.0"
      ]
     },
     "execution_count": 28,
     "metadata": {},
     "output_type": "execute_result"
    }
   ],
   "source": [
    "all_distributed_data.max().compute()"
   ]
  },
  {
   "cell_type": "code",
   "execution_count": 29,
   "metadata": {
    "collapsed": false
   },
   "outputs": [
    {
     "data": {
      "text/plain": [
       "[20.0, 1.0]"
      ]
     },
     "execution_count": 29,
     "metadata": {},
     "output_type": "execute_result"
    }
   ],
   "source": [
    "executor.compute([all_distributed_data.max(), all_distributed_data[:,1].max()], sync=True)"
   ]
  },
  {
   "cell_type": "code",
   "execution_count": null,
   "metadata": {
    "collapsed": true
   },
   "outputs": [],
   "source": []
  }
 ],
 "metadata": {
  "anaconda-cloud": {},
  "kernelspec": {
   "display_name": "Python [Root]",
   "language": "python",
   "name": "Python [Root]"
  },
  "language_info": {
   "codemirror_mode": {
    "name": "ipython",
    "version": 3
   },
   "file_extension": ".py",
   "mimetype": "text/x-python",
   "name": "python",
   "nbconvert_exporter": "python",
   "pygments_lexer": "ipython3",
   "version": "3.5.2"
  }
 },
 "nbformat": 4,
 "nbformat_minor": 0
}
