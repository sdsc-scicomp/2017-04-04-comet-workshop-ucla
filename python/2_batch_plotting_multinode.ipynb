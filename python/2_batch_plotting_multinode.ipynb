{
 "cells": [
  {
   "cell_type": "markdown",
   "metadata": {},
   "source": [
    "# Plotting multinode\n",
    "\n",
    "We are now using `dask` locally, so this is equivalent to multicore. However `dask` works also across multiple machines automatically, so you would just need to execute `dask-worker` on other machines and give as argument the address of the machine where the scheduler is running.\n",
    "\n",
    "For more information about `dask-distributed`, see <https://distributed.readthedocs.io/en/latest/index.html>\n",
    "\n",
    "## Launch dask\n",
    "\n",
    "Open a terminal and launch (`&` to send to a background process):\n",
    "\n",
    "    dask-scheduler --host localhost &\n",
    "    \n",
    "To launch the scheduler process, and then a couple of workers:\n",
    "\n",
    "    dask-worker 127.0.0.1:8786 &\n",
    "    dask-worker 127.0.0.1:8786 &"
   ]
  },
  {
   "cell_type": "code",
   "execution_count": 1,
   "metadata": {
    "collapsed": false
   },
   "outputs": [],
   "source": [
    "def analyze_one_file(filename):\n",
    "    # first we need to add the current folder to the python path in the workers,\n",
    "    # otherwise Python would not be able to find the analyze_inflammation module\n",
    "    import sys\n",
    "    import os\n",
    "    sys.path.append(os.getcwd())\n",
    "    \n",
    "    # import and use the function\n",
    "    from analyze_inflammation import analyze\n",
    "    return analyze(filename)"
   ]
  },
  {
   "cell_type": "code",
   "execution_count": 2,
   "metadata": {
    "collapsed": true
   },
   "outputs": [],
   "source": [
    "import glob"
   ]
  },
  {
   "cell_type": "code",
   "execution_count": 3,
   "metadata": {
    "collapsed": true
   },
   "outputs": [],
   "source": [
    "filenames = glob.glob(\"inflammation-*.csv\")"
   ]
  },
  {
   "cell_type": "code",
   "execution_count": 4,
   "metadata": {
    "collapsed": true
   },
   "outputs": [],
   "source": [
    "%matplotlib inline"
   ]
  },
  {
   "cell_type": "code",
   "execution_count": 5,
   "metadata": {
    "collapsed": false
   },
   "outputs": [],
   "source": [
    "import distributed"
   ]
  },
  {
   "cell_type": "code",
   "execution_count": 6,
   "metadata": {
    "collapsed": false
   },
   "outputs": [],
   "source": [
    "executor = distributed.Executor('127.0.0.1:8786')"
   ]
  },
  {
   "cell_type": "code",
   "execution_count": 7,
   "metadata": {
    "collapsed": false
   },
   "outputs": [
    {
     "name": "stdout",
     "output_type": "stream",
     "text": [
      "CPU times: user 66 ms, sys: 6 ms, total: 72 ms\n",
      "Wall time: 16.2 s\n"
     ]
    }
   ],
   "source": [
    "%%time\n",
    "\n",
    "results_handle = executor.map(analyze_one_file, filenames)\n",
    "results = executor.gather(results_handle)"
   ]
  },
  {
   "cell_type": "code",
   "execution_count": 8,
   "metadata": {
    "collapsed": false
   },
   "outputs": [
    {
     "name": "stdout",
     "output_type": "stream",
     "text": [
      "\u001b[0m\u001b[01;35minflammation-01.png\u001b[0m  \u001b[01;35minflammation-05.png\u001b[0m  \u001b[01;35minflammation-09.png\u001b[0m\r\n",
      "\u001b[01;35minflammation-02.png\u001b[0m  \u001b[01;35minflammation-06.png\u001b[0m  \u001b[01;35minflammation-10.png\u001b[0m\r\n",
      "\u001b[01;35minflammation-03.png\u001b[0m  \u001b[01;35minflammation-07.png\u001b[0m  \u001b[01;35minflammation-11.png\u001b[0m\r\n",
      "\u001b[01;35minflammation-04.png\u001b[0m  \u001b[01;35minflammation-08.png\u001b[0m  \u001b[01;35minflammation-12.png\u001b[0m\r\n"
     ]
    }
   ],
   "source": [
    "ls *png"
   ]
  },
  {
   "cell_type": "code",
   "execution_count": null,
   "metadata": {
    "collapsed": true
   },
   "outputs": [],
   "source": []
  }
 ],
 "metadata": {
  "anaconda-cloud": {},
  "kernelspec": {
   "display_name": "Python [Root]",
   "language": "python",
   "name": "Python [Root]"
  },
  "language_info": {
   "codemirror_mode": {
    "name": "ipython",
    "version": 3
   },
   "file_extension": ".py",
   "mimetype": "text/x-python",
   "name": "python",
   "nbconvert_exporter": "python",
   "pygments_lexer": "ipython3",
   "version": "3.5.2"
  }
 },
 "nbformat": 4,
 "nbformat_minor": 0
}
