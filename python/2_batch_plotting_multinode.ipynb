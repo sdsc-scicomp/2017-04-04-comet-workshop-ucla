{
 "cells": [
  {
   "cell_type": "markdown",
   "metadata": {},
   "source": [
    "# Plotting multinode\n",
    "\n",
    "We are now using `dask` locally, so this is equivalent to multicore. However `dask` works also across multiple machines automatically, so you would just need to execute `dask-worker` on other machines and give as argument the address of the machine where the scheduler is running.\n",
    "\n",
    "For more information about `dask-distributed`, see <https://distributed.readthedocs.io/en/latest/index.html>\n"
   ]
  },
  {
   "cell_type": "markdown",
   "metadata": {},
   "source": [
    "## Install dask-distributed\n",
    "\n",
    "In home folder:\n",
    "\n",
    "    pip install --user distributed"
   ]
  },
  {
   "cell_type": "markdown",
   "metadata": {},
   "source": [
    "## Launch dask workers\n",
    "\n",
    "Open terminal on the node that is running the notebook and launch the scheduler:\n",
    "\n",
    "    ~/.local/bin/dask-scheduler --scheduler-file ~/.dask_scheduler.json\n",
    "    \n",
    "Submit another job for the workers, they will use the shared filesystem to connect:\n",
    "\n",
    "    sbatch dask_workers.cmd"
   ]
  },
  {
   "cell_type": "code",
   "execution_count": null,
   "metadata": {
    "collapsed": false
   },
   "outputs": [],
   "source": [
    "def analyze_one_file(filename):\n",
    "    # first we need to add the current folder to the python path in the workers,\n",
    "    # otherwise Python would not be able to find the analyze_inflammation module\n",
    "    import sys\n",
    "    import os\n",
    "    sys.path.append(os.getcwd())\n",
    "    \n",
    "    # import and use the function\n",
    "    from analyze_inflammation import analyze\n",
    "    return analyze(filename)"
   ]
  },
  {
   "cell_type": "code",
   "execution_count": null,
   "metadata": {
    "collapsed": true
   },
   "outputs": [],
   "source": [
    "import glob"
   ]
  },
  {
   "cell_type": "code",
   "execution_count": null,
   "metadata": {
    "collapsed": true
   },
   "outputs": [],
   "source": [
    "filenames = glob.glob(\"data/inflammation-*.csv\")"
   ]
  },
  {
   "cell_type": "code",
   "execution_count": null,
   "metadata": {
    "collapsed": false
   },
   "outputs": [],
   "source": [
    "# add to the path packages installed with pip install --user\n",
    "import sys\n",
    "from os.path import expanduser\n",
    "sys.path.append(expanduser(\"~\") + \"/.local/lib/python3.5/site-packages/\")"
   ]
  },
  {
   "cell_type": "code",
   "execution_count": null,
   "metadata": {
    "collapsed": false
   },
   "outputs": [],
   "source": [
    "import distributed"
   ]
  },
  {
   "cell_type": "code",
   "execution_count": null,
   "metadata": {
    "collapsed": false
   },
   "outputs": [],
   "source": [
    "executor = distributed.Executor('127.0.0.1:8786')"
   ]
  },
  {
   "cell_type": "code",
   "execution_count": null,
   "metadata": {
    "collapsed": false
   },
   "outputs": [],
   "source": [
    "executor.ncores()"
   ]
  },
  {
   "cell_type": "code",
   "execution_count": null,
   "metadata": {
    "collapsed": false
   },
   "outputs": [],
   "source": [
    "!rm data/*.png"
   ]
  },
  {
   "cell_type": "code",
   "execution_count": null,
   "metadata": {
    "collapsed": false
   },
   "outputs": [],
   "source": [
    "%%time\n",
    "\n",
    "results_handle = executor.map(analyze_one_file, filenames)\n",
    "results = executor.gather(results_handle)"
   ]
  },
  {
   "cell_type": "code",
   "execution_count": null,
   "metadata": {
    "collapsed": false
   },
   "outputs": [],
   "source": [
    "!ls data/.*png"
   ]
  },
  {
   "cell_type": "code",
   "execution_count": null,
   "metadata": {
    "collapsed": true
   },
   "outputs": [],
   "source": []
  }
 ],
 "metadata": {
  "anaconda-cloud": {},
  "kernelspec": {
   "display_name": "Python [conda root]",
   "language": "python",
   "name": "conda-root-py"
  },
  "language_info": {
   "codemirror_mode": {
    "name": "ipython",
    "version": 3
   },
   "file_extension": ".py",
   "mimetype": "text/x-python",
   "name": "python",
   "nbconvert_exporter": "python",
   "pygments_lexer": "ipython3",
   "version": "3.5.2"
  }
 },
 "nbformat": 4,
 "nbformat_minor": 0
}
